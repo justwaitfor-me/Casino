{
 "cells": [
  {
   "cell_type": "code",
   "execution_count": 2,
   "metadata": {},
   "outputs": [],
   "source": [
    "import random\n",
    "import time"
   ]
  },
  {
   "cell_type": "code",
   "execution_count": 3,
   "metadata": {},
   "outputs": [],
   "source": [
    "def gamble(bet:int, chance:int = 44):\n",
    "    print(f\"Chance of winning: {chance}%\")\n",
    "    print(f\"You start with {bet} dollars.\")\n",
    "    time.sleep(1)\n",
    "    win = bet\n",
    "    counter = 0\n",
    "    while True:\n",
    "        counter += 1\n",
    "        print(f\"{counter}/{8}\")\n",
    "        time.sleep(1)\n",
    "        if random.random() < (chance / 100):\n",
    "            print(f\"You win! (+{win}$)\")\n",
    "            win *= 2\n",
    "            if counter <= 8:\n",
    "                again = input(\"Do you want to play again? (yes/no): \")\n",
    "                if again.lower()!= \"yes\":\n",
    "                    break\n",
    "            else:\n",
    "                break\n",
    "                \n",
    "        else:\n",
    "            print(f\"You lose! (-{bet}$)\")\n",
    "            win = 0\n",
    "            break\n",
    "    if win != 0:\n",
    "        print(f\"You won a total of {win} dollars.\")\n",
    "        return win\n",
    "    else:\n",
    "        print(f\"You lost {bet} dollars.\")\n",
    "        return False\n",
    "    "
   ]
  },
  {
   "cell_type": "code",
   "execution_count": 4,
   "metadata": {},
   "outputs": [],
   "source": [
    "def main(wallet: int):\n",
    "    while True:\n",
    "        print(f\"Your current balance: {wallet} dollars.\")\n",
    "        bet = int(input(\"Enter your bet: \"))\n",
    "        if bet > wallet:\n",
    "            print(\"Insufficient funds!\")\n",
    "        elif bet == 0:\n",
    "            print(\"Goodbye!\")\n",
    "            break\n",
    "        else:\n",
    "            wallet -= bet\n",
    "            win = gamble(bet)\n",
    "            if win != False:\n",
    "                wallet += win\n"
   ]
  },
  {
   "cell_type": "code",
   "execution_count": 5,
   "metadata": {},
   "outputs": [
    {
     "name": "stdout",
     "output_type": "stream",
     "text": [
      "Your current balance: 1000 dollars.\n",
      "Chance of winning: 44%\n",
      "You start with 100 dollars.\n",
      "1/8\n",
      "You win! (+100$)\n",
      "2/8\n",
      "You win! (+200$)\n",
      "3/8\n",
      "You win! (+400$)\n",
      "You won a total of 800 dollars.\n",
      "Your current balance: 1700 dollars.\n",
      "Chance of winning: 44%\n",
      "You start with 400 dollars.\n",
      "1/8\n",
      "You win! (+400$)\n",
      "2/8\n",
      "You win! (+800$)\n",
      "3/8\n",
      "You win! (+1600$)\n",
      "4/8\n",
      "You lose! (-400$)\n",
      "You lost 400 dollars.\n",
      "Your current balance: 1300 dollars.\n"
     ]
    },
    {
     "ename": "ValueError",
     "evalue": "invalid literal for int() with base 10: ''",
     "output_type": "error",
     "traceback": [
      "\u001b[1;31m---------------------------------------------------------------------------\u001b[0m",
      "\u001b[1;31mValueError\u001b[0m                                Traceback (most recent call last)",
      "Cell \u001b[1;32mIn[5], line 1\u001b[0m\n\u001b[1;32m----> 1\u001b[0m \u001b[43mmain\u001b[49m\u001b[43m(\u001b[49m\u001b[38;5;241;43m1000\u001b[39;49m\u001b[43m)\u001b[49m\n",
      "Cell \u001b[1;32mIn[4], line 4\u001b[0m, in \u001b[0;36mmain\u001b[1;34m(wallet)\u001b[0m\n\u001b[0;32m      2\u001b[0m \u001b[38;5;28;01mwhile\u001b[39;00m \u001b[38;5;28;01mTrue\u001b[39;00m:\n\u001b[0;32m      3\u001b[0m     \u001b[38;5;28mprint\u001b[39m(\u001b[38;5;124mf\u001b[39m\u001b[38;5;124m\"\u001b[39m\u001b[38;5;124mYour current balance: \u001b[39m\u001b[38;5;132;01m{\u001b[39;00mwallet\u001b[38;5;132;01m}\u001b[39;00m\u001b[38;5;124m dollars.\u001b[39m\u001b[38;5;124m\"\u001b[39m)\n\u001b[1;32m----> 4\u001b[0m     bet \u001b[38;5;241m=\u001b[39m \u001b[38;5;28;43mint\u001b[39;49m\u001b[43m(\u001b[49m\u001b[38;5;28;43minput\u001b[39;49m\u001b[43m(\u001b[49m\u001b[38;5;124;43m\"\u001b[39;49m\u001b[38;5;124;43mEnter your bet: \u001b[39;49m\u001b[38;5;124;43m\"\u001b[39;49m\u001b[43m)\u001b[49m\u001b[43m)\u001b[49m\n\u001b[0;32m      5\u001b[0m     \u001b[38;5;28;01mif\u001b[39;00m bet \u001b[38;5;241m>\u001b[39m wallet:\n\u001b[0;32m      6\u001b[0m         \u001b[38;5;28mprint\u001b[39m(\u001b[38;5;124m\"\u001b[39m\u001b[38;5;124mInsufficient funds!\u001b[39m\u001b[38;5;124m\"\u001b[39m)\n",
      "\u001b[1;31mValueError\u001b[0m: invalid literal for int() with base 10: ''"
     ]
    }
   ],
   "source": [
    "main(1000)"
   ]
  }
 ],
 "metadata": {
  "kernelspec": {
   "display_name": "Python 3",
   "language": "python",
   "name": "python3"
  },
  "language_info": {
   "codemirror_mode": {
    "name": "ipython",
    "version": 3
   },
   "file_extension": ".py",
   "mimetype": "text/x-python",
   "name": "python",
   "nbconvert_exporter": "python",
   "pygments_lexer": "ipython3",
   "version": "3.12.2"
  }
 },
 "nbformat": 4,
 "nbformat_minor": 2
}
